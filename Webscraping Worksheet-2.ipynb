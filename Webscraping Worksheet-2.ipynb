{
 "cells": [
  {
   "cell_type": "markdown",
   "metadata": {},
   "source": [
    "# Webscraping Worksheet-2 \n",
    "Coding Questions 14 & 15"
   ]
  },
  {
   "cell_type": "markdown",
   "metadata": {},
   "source": [
    "14. Write a python program to scrap 10 images of Rayban Sunglasses from flipkart website and save them in a\n",
    "directory."
   ]
  },
  {
   "cell_type": "code",
   "execution_count": 4,
   "metadata": {},
   "outputs": [
    {
     "name": "stderr",
     "output_type": "stream",
     "text": [
      "[WDM] - Current google-chrome version is 85.0.4183\n",
      "[WDM] - Get LATEST driver version for 85.0.4183\n",
      "[WDM] - Driver [C:\\Users\\hp\\.wdm\\drivers\\chromedriver\\win32\\85.0.4183.87\\chromedriver.exe] found in cache\n"
     ]
    },
    {
     "name": "stdout",
     "output_type": "stream",
     "text": [
      " \n"
     ]
    }
   ],
   "source": [
    "#Import the liberaries\n",
    "from selenium import webdriver\n",
    "from webdriver_manager.chrome import ChromeDriverManager\n",
    "import os\n",
    "driver = webdriver.Chrome(ChromeDriverManager().install())\n",
    "\n",
    "my_page=driver.get('https://www.flipkart.com/sunglasses/ray-ban~brand/pr?sid=26x')"
   ]
  },
  {
   "cell_type": "code",
   "execution_count": 5,
   "metadata": {},
   "outputs": [],
   "source": [
    "#MAking the directory to store images\n",
    "def make_directory(dirname):\n",
    "    current_path = os.getcwd()\n",
    "    path= os.path.join(current_path, dirname)\n",
    "    if not os.path.exists(path):\n",
    "        os.makedirs(path)\n",
    "        \n",
    "make_directory('rayban_sunglasses')"
   ]
  },
  {
   "cell_type": "code",
   "execution_count": 6,
   "metadata": {},
   "outputs": [
    {
     "name": "stdout",
     "output_type": "stream",
     "text": [
      "[<selenium.webdriver.remote.webelement.WebElement (session=\"8a1e479084e5e356be5d7fd2eae76748\", element=\"ad34e74c-2a2b-49d7-bfad-0d5198093fb4\")>, <selenium.webdriver.remote.webelement.WebElement (session=\"8a1e479084e5e356be5d7fd2eae76748\", element=\"b09d97b4-e6b7-4204-91df-eae127d5ac14\")>, <selenium.webdriver.remote.webelement.WebElement (session=\"8a1e479084e5e356be5d7fd2eae76748\", element=\"70ea87b3-8869-4806-9c3b-322686501a33\")>, <selenium.webdriver.remote.webelement.WebElement (session=\"8a1e479084e5e356be5d7fd2eae76748\", element=\"139ccdd6-8810-4fe6-b3ec-c0c5ce288164\")>, <selenium.webdriver.remote.webelement.WebElement (session=\"8a1e479084e5e356be5d7fd2eae76748\", element=\"a0777aee-7184-478e-8626-22e2a1c68f36\")>, <selenium.webdriver.remote.webelement.WebElement (session=\"8a1e479084e5e356be5d7fd2eae76748\", element=\"9eda0bd8-b7df-4f92-a0f8-e470774ccda7\")>, <selenium.webdriver.remote.webelement.WebElement (session=\"8a1e479084e5e356be5d7fd2eae76748\", element=\"b5bf9cf2-4214-4c38-9b34-fb9e44fa4c1b\")>, <selenium.webdriver.remote.webelement.WebElement (session=\"8a1e479084e5e356be5d7fd2eae76748\", element=\"a94d941a-aebd-47ff-a8c2-5ff2e4e10eb1\")>, <selenium.webdriver.remote.webelement.WebElement (session=\"8a1e479084e5e356be5d7fd2eae76748\", element=\"aa24ecf3-8591-4cf5-af18-f16617565990\")>, <selenium.webdriver.remote.webelement.WebElement (session=\"8a1e479084e5e356be5d7fd2eae76748\", element=\"1bd301d6-da7c-45ed-82e7-18965d54c5ea\")>, <selenium.webdriver.remote.webelement.WebElement (session=\"8a1e479084e5e356be5d7fd2eae76748\", element=\"57a15424-5e6f-4c49-a580-17dc5b6752e9\")>, <selenium.webdriver.remote.webelement.WebElement (session=\"8a1e479084e5e356be5d7fd2eae76748\", element=\"6529fb8a-8434-4126-a321-2b3f740cfc52\")>, <selenium.webdriver.remote.webelement.WebElement (session=\"8a1e479084e5e356be5d7fd2eae76748\", element=\"7f379326-708c-4981-b468-93ea86ad4e4a\")>, <selenium.webdriver.remote.webelement.WebElement (session=\"8a1e479084e5e356be5d7fd2eae76748\", element=\"6a667443-cd1d-41d9-ac6a-4419ee7b149e\")>, <selenium.webdriver.remote.webelement.WebElement (session=\"8a1e479084e5e356be5d7fd2eae76748\", element=\"b65faad8-8d16-41df-ad8e-99f420edc1a5\")>, <selenium.webdriver.remote.webelement.WebElement (session=\"8a1e479084e5e356be5d7fd2eae76748\", element=\"57017ab8-44fb-42fb-9739-4f21e445252d\")>, <selenium.webdriver.remote.webelement.WebElement (session=\"8a1e479084e5e356be5d7fd2eae76748\", element=\"1ab642fc-8d88-4001-93ac-117990e681d3\")>, <selenium.webdriver.remote.webelement.WebElement (session=\"8a1e479084e5e356be5d7fd2eae76748\", element=\"6b3bac91-76ec-4c3f-ae5b-9fc3292305a7\")>, <selenium.webdriver.remote.webelement.WebElement (session=\"8a1e479084e5e356be5d7fd2eae76748\", element=\"6a2f8619-0b09-4c64-8b31-124c493a5335\")>, <selenium.webdriver.remote.webelement.WebElement (session=\"8a1e479084e5e356be5d7fd2eae76748\", element=\"fbc02350-9e01-4230-9533-e0084d2e69e5\")>, <selenium.webdriver.remote.webelement.WebElement (session=\"8a1e479084e5e356be5d7fd2eae76748\", element=\"51eeb610-a428-4487-bd14-62d39f1ba0e8\")>, <selenium.webdriver.remote.webelement.WebElement (session=\"8a1e479084e5e356be5d7fd2eae76748\", element=\"654e7f13-7235-4d4f-a056-bf51e34ff223\")>, <selenium.webdriver.remote.webelement.WebElement (session=\"8a1e479084e5e356be5d7fd2eae76748\", element=\"1f48d8b2-e524-40a1-8206-3ebd3d8e3306\")>, <selenium.webdriver.remote.webelement.WebElement (session=\"8a1e479084e5e356be5d7fd2eae76748\", element=\"3c6fb6d1-a87b-4493-a5b7-0ad16f583310\")>, <selenium.webdriver.remote.webelement.WebElement (session=\"8a1e479084e5e356be5d7fd2eae76748\", element=\"a2cc00aa-c776-43a8-869b-033dab640461\")>, <selenium.webdriver.remote.webelement.WebElement (session=\"8a1e479084e5e356be5d7fd2eae76748\", element=\"3d6df45b-23d6-462f-9b89-e64c9be1b1c8\")>, <selenium.webdriver.remote.webelement.WebElement (session=\"8a1e479084e5e356be5d7fd2eae76748\", element=\"dbd1538a-6fef-47cd-8bdd-928ef08bec47\")>, <selenium.webdriver.remote.webelement.WebElement (session=\"8a1e479084e5e356be5d7fd2eae76748\", element=\"b31a0aba-c6b2-432d-88da-b5415d25daa8\")>, <selenium.webdriver.remote.webelement.WebElement (session=\"8a1e479084e5e356be5d7fd2eae76748\", element=\"d393b8b2-ae9c-44a7-b2a1-943ed972e6cc\")>, <selenium.webdriver.remote.webelement.WebElement (session=\"8a1e479084e5e356be5d7fd2eae76748\", element=\"7f218564-ca63-48e0-9ab3-981f89bfe7a0\")>, <selenium.webdriver.remote.webelement.WebElement (session=\"8a1e479084e5e356be5d7fd2eae76748\", element=\"b6be67fd-4028-406d-a4f3-ae6c68b0df8a\")>, <selenium.webdriver.remote.webelement.WebElement (session=\"8a1e479084e5e356be5d7fd2eae76748\", element=\"8d1ac0ee-cf01-43ab-945a-d3f3913043e3\")>, <selenium.webdriver.remote.webelement.WebElement (session=\"8a1e479084e5e356be5d7fd2eae76748\", element=\"5229e8c2-ff55-4590-a420-c0967aac7d52\")>, <selenium.webdriver.remote.webelement.WebElement (session=\"8a1e479084e5e356be5d7fd2eae76748\", element=\"b6e814bd-32cb-4227-8112-e8caf9a1d137\")>, <selenium.webdriver.remote.webelement.WebElement (session=\"8a1e479084e5e356be5d7fd2eae76748\", element=\"c6b8b3a3-e73c-4299-8df4-fb78d9742d75\")>, <selenium.webdriver.remote.webelement.WebElement (session=\"8a1e479084e5e356be5d7fd2eae76748\", element=\"775f14f3-4c33-40fb-96d5-96c592e64209\")>, <selenium.webdriver.remote.webelement.WebElement (session=\"8a1e479084e5e356be5d7fd2eae76748\", element=\"a7afcb39-a6ab-46d3-b68f-9dee7cb9acb7\")>, <selenium.webdriver.remote.webelement.WebElement (session=\"8a1e479084e5e356be5d7fd2eae76748\", element=\"4bd25f8e-a521-4a7d-928b-1cd5d6330c85\")>, <selenium.webdriver.remote.webelement.WebElement (session=\"8a1e479084e5e356be5d7fd2eae76748\", element=\"1dcf1176-a3e9-4c18-b256-928ce384dec7\")>, <selenium.webdriver.remote.webelement.WebElement (session=\"8a1e479084e5e356be5d7fd2eae76748\", element=\"b22a8f96-a83f-44eb-81fd-6d648b136d6c\")>]\n"
     ]
    }
   ],
   "source": [
    "#Scraping image URLs\n",
    "images= driver.find_elements_by_xpath(\"//img[@class='_3togXc']\")\n",
    "print(images)"
   ]
  },
  {
   "cell_type": "code",
   "execution_count": 12,
   "metadata": {},
   "outputs": [
    {
     "data": {
      "text/plain": [
       "40"
      ]
     },
     "execution_count": 12,
     "metadata": {},
     "output_type": "execute_result"
    }
   ],
   "source": [
    "urls=[]\n",
    "for image in images:\n",
    "    source= image.get_attribute('src')\n",
    "    urls.append(source)\n",
    "    \n",
    "    \n",
    "len(urls)"
   ]
  },
  {
   "cell_type": "code",
   "execution_count": 8,
   "metadata": {},
   "outputs": [],
   "source": [
    "import shutil\n",
    "import requests"
   ]
  },
  {
   "cell_type": "code",
   "execution_count": 13,
   "metadata": {},
   "outputs": [
    {
     "name": "stdout",
     "output_type": "stream",
     "text": [
      "Downloading 1 of 40 images\n",
      "Downloading 2 of 40 images\n",
      "Downloading 3 of 40 images\n",
      "Downloading 4 of 40 images\n",
      "Downloading 5 of 40 images\n",
      "Downloading 6 of 40 images\n",
      "Downloading 7 of 40 images\n",
      "Downloading 8 of 40 images\n",
      "Downloading 9 of 40 images\n",
      "Downloading 10 of 40 images\n",
      "Downloading 11 of 40 images\n",
      "Downloading 12 of 40 images\n",
      "Downloading 13 of 40 images\n",
      "Downloading 14 of 40 images\n",
      "Downloading 15 of 40 images\n",
      "Downloading 16 of 40 images\n",
      "Downloading 17 of 40 images\n",
      "Downloading 18 of 40 images\n",
      "Downloading 19 of 40 images\n",
      "Downloading 20 of 40 images\n",
      "Downloading 21 of 40 images\n",
      "Downloading 22 of 40 images\n",
      "Downloading 23 of 40 images\n",
      "Downloading 24 of 40 images\n",
      "Downloading 25 of 40 images\n",
      "Downloading 26 of 40 images\n",
      "Downloading 27 of 40 images\n",
      "Downloading 28 of 40 images\n",
      "Downloading 29 of 40 images\n",
      "Downloading 30 of 40 images\n",
      "Downloading 31 of 40 images\n",
      "Downloading 32 of 40 images\n",
      "Downloading 33 of 40 images\n",
      "Downloading 34 of 40 images\n",
      "Downloading 35 of 40 images\n",
      "Downloading 36 of 40 images\n",
      "Downloading 37 of 40 images\n",
      "Downloading 38 of 40 images\n",
      "Downloading 39 of 40 images\n",
      "Downloading 40 of 40 images\n"
     ]
    }
   ],
   "source": [
    "for index, link in enumerate(urls):\n",
    "    print(\"Downloading {0} of {1} images\".format(index+1,len(urls)))\n",
    "    response= requests.get('https://www.flipkart.com/sunglasses/ray-ban~brand/pr?sid=26x')\n",
    "    with open('rayban_sunglasses/img_{0}.jpeg'.format(index),\"wb\") as file:\n",
    "        file.write(response.content)"
   ]
  },
  {
   "cell_type": "code",
   "execution_count": null,
   "metadata": {},
   "outputs": [],
   "source": []
  }
 ],
 "metadata": {
  "kernelspec": {
   "display_name": "Python 3",
   "language": "python",
   "name": "python3"
  },
  "language_info": {
   "codemirror_mode": {
    "name": "ipython",
    "version": 3
   },
   "file_extension": ".py",
   "mimetype": "text/x-python",
   "name": "python",
   "nbconvert_exporter": "python",
   "pygments_lexer": "ipython3",
   "version": "3.6.5"
  }
 },
 "nbformat": 4,
 "nbformat_minor": 2
}
